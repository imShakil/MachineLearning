{
 "cells": [
  {
   "cell_type": "code",
   "execution_count": 1,
   "metadata": {},
   "outputs": [
    {
     "data": {
      "text/plain": [
       "(81312, 20)"
      ]
     },
     "execution_count": 1,
     "metadata": {},
     "output_type": "execute_result"
    }
   ],
   "source": [
    "#imported package and library\n",
    "\n",
    "import pandas as pd\n",
    "import seaborn as sb\n",
    "import matplotlib.pyplot as plt\n",
    "from sklearn.linear_model import LinearRegression\n",
    "from sklearn.model_selection import train_test_split\n",
    "\n",
    "#Dataset loaded\n",
    "\n",
    "dataset = pd.read_csv(\"games.csv\")\n",
    "dataset.shape\n"
   ]
  },
  {
   "cell_type": "code",
   "execution_count": 2,
   "metadata": {},
   "outputs": [
    {
     "name": "stdout",
     "output_type": "stream",
     "text": [
      "id                        int64\n",
      "type                     object\n",
      "name                     object\n",
      "yearpublished           float64\n",
      "minplayers              float64\n",
      "maxplayers              float64\n",
      "playingtime             float64\n",
      "minplaytime             float64\n",
      "maxplaytime             float64\n",
      "minage                  float64\n",
      "users_rated               int64\n",
      "average_rating          float64\n",
      "bayes_average_rating    float64\n",
      "total_owners              int64\n",
      "total_traders             int64\n",
      "total_wanters             int64\n",
      "total_wishers             int64\n",
      "total_comments            int64\n",
      "total_weights             int64\n",
      "average_weight          float64\n",
      "dtype: object\n",
      "Index(['id', 'type', 'name', 'yearpublished', 'minplayers', 'maxplayers',\n",
      "       'playingtime', 'minplaytime', 'maxplaytime', 'minage', 'users_rated',\n",
      "       'average_rating', 'bayes_average_rating', 'total_owners',\n",
      "       'total_traders', 'total_wanters', 'total_wishers', 'total_comments',\n",
      "       'total_weights', 'average_weight'],\n",
      "      dtype='object')\n",
      "       id       type                                       name  \\\n",
      "0   12333  boardgame                          Twilight Struggle   \n",
      "1  120677  boardgame                              Terra Mystica   \n",
      "2  102794  boardgame                  Caverna: The Cave Farmers   \n",
      "3   25613  boardgame  Through the Ages: A Story of Civilization   \n",
      "4    3076  boardgame                                Puerto Rico   \n",
      "5   31260  boardgame                                   Agricola   \n",
      "6  124742  boardgame                         Android: Netrunner   \n",
      "7   96848  boardgame                     Mage Knight Board Game   \n",
      "8   84876  boardgame                    The Castles of Burgundy   \n",
      "9   72125  boardgame                                    Eclipse   \n",
      "\n",
      "   yearpublished  minplayers  maxplayers  playingtime  minplaytime  \\\n",
      "0         2005.0         2.0         2.0        180.0        180.0   \n",
      "1         2012.0         2.0         5.0        150.0         60.0   \n",
      "2         2013.0         1.0         7.0        210.0         30.0   \n",
      "3         2006.0         2.0         4.0        240.0        240.0   \n",
      "4         2002.0         2.0         5.0        150.0         90.0   \n",
      "5         2007.0         1.0         5.0        150.0         30.0   \n",
      "6         2012.0         2.0         2.0         45.0         45.0   \n",
      "7         2011.0         1.0         4.0        150.0        150.0   \n",
      "8         2011.0         2.0         4.0         90.0         30.0   \n",
      "9         2011.0         2.0         6.0        200.0         60.0   \n",
      "\n",
      "   maxplaytime  minage  users_rated  average_rating  bayes_average_rating  \\\n",
      "0        180.0    13.0        20113         8.33774               8.22186   \n",
      "1        150.0    12.0        14383         8.28798               8.14232   \n",
      "2        210.0    12.0         9262         8.28994               8.06886   \n",
      "3        240.0    12.0        13294         8.20407               8.05804   \n",
      "4        150.0    12.0        39883         8.14261               8.04524   \n",
      "5        150.0    12.0        39714         8.11957               8.03847   \n",
      "6         45.0    14.0        15281         8.16760               7.97822   \n",
      "7        150.0    14.0        12697         8.15901               7.96929   \n",
      "8         90.0    12.0        15461         8.07879               7.95011   \n",
      "9        200.0    14.0        15709         8.07933               7.93244   \n",
      "\n",
      "   total_owners  total_traders  total_wanters  total_wishers  total_comments  \\\n",
      "0         26647            372           1219           5865            5347   \n",
      "1         16519            132           1586           6277            2526   \n",
      "2         12230             99           1476           5600            1700   \n",
      "3         14343            362           1084           5075            3378   \n",
      "4         44362            795            861           5414            9173   \n",
      "5         47522            837            958           6402            9310   \n",
      "6         24381            680            627           3244            3202   \n",
      "7         18769            367           1116           5427            2861   \n",
      "8         20558            215            929           3681            3244   \n",
      "9         17611            273           1108           5581            3188   \n",
      "\n",
      "   total_weights  average_weight  \n",
      "0           2562          3.4785  \n",
      "1           1423          3.8939  \n",
      "2            777          3.7761  \n",
      "3           1642          4.1590  \n",
      "4           5213          3.2943  \n",
      "5           5065          3.6160  \n",
      "6           1260          3.3103  \n",
      "7           1409          4.1292  \n",
      "8           1176          3.0442  \n",
      "9           1486          3.6359  \n"
     ]
    }
   ],
   "source": [
    "#Dataset data types\n",
    "print(dataset.dtypes)\n",
    "\n",
    "#List of columns\n",
    "print(dataset.columns)\n",
    "\n",
    "#Displayed some rows of dataset\n",
    "print(dataset.head(10))"
   ]
  },
  {
   "cell_type": "code",
   "execution_count": 3,
   "metadata": {},
   "outputs": [
    {
     "data": {
      "image/png": "[encoded data removed]",
      "text/plain": [
       "<Figure size 432x288 with 1 Axes>"
      ]
     },
     "metadata": {
      "needs_background": "light"
     },
     "output_type": "display_data"
    }
   ],
   "source": [
    "#Creating a histogram on average rating \n",
    "\n",
    "plt.hist(dataset[\"average_rating\"])\n",
    "plt.show()"
   ]
  },
  {
   "cell_type": "markdown",
   "metadata": {},
   "source": [
    "## Noted\n",
    "\n",
    "From the histogram we see the range of rating in 0 to 10 and where most of them are 0(zero)."
   ]
  },
  {
   "cell_type": "code",
   "execution_count": 4,
   "metadata": {},
   "outputs": [
    {
     "data": {
      "image/png": "[encoded data removed]",
      "text/plain": [
       "<Figure size 432x288 with 1 Axes>"
      ]
     },
     "metadata": {
      "needs_background": "light"
     },
     "output_type": "display_data"
    }
   ],
   "source": [
    "#Let's make an histogram by considering on user rated \n",
    "\n",
    "plt.hist(dataset[\"users_rated\"])\n",
    "plt.show()"
   ]
  },
  {
   "cell_type": "markdown",
   "metadata": {},
   "source": [
    "## Removing rows without user reviews"
   ]
  },
  {
   "cell_type": "code",
   "execution_count": 5,
   "metadata": {},
   "outputs": [
    {
     "name": "stdout",
     "output_type": "stream",
     "text": [
      "(56932, 20)\n"
     ]
    }
   ],
   "source": [
    "#Let's remove rows withour user reviews\n",
    "\n",
    "dataset = dataset[dataset[\"users_rated\"]>0]\n",
    "print(dataset.shape)\n"
   ]
  },
  {
   "cell_type": "code",
   "execution_count": 6,
   "metadata": {},
   "outputs": [
    {
     "data": {
      "image/png": "[encoded data removed]",
      "text/plain": [
       "<Figure size 432x288 with 1 Axes>"
      ]
     },
     "metadata": {
      "needs_background": "light"
     },
     "output_type": "display_data"
    }
   ],
   "source": [
    "#now let's see tha histogram on users reviews\n",
    "\n",
    "plt.hist(dataset[\"users_rated\"])\n",
    "plt.show()"
   ]
  },
  {
   "cell_type": "code",
   "execution_count": 7,
   "metadata": {},
   "outputs": [
    {
     "name": "stdout",
     "output_type": "stream",
     "text": [
      "(56894, 20)\n"
     ]
    },
    {
     "data": {
      "image/png": "[encoded data removed]",
      "text/plain": [
       "<Figure size 432x288 with 1 Axes>"
      ]
     },
     "metadata": {
      "needs_background": "light"
     },
     "output_type": "display_data"
    }
   ],
   "source": [
    "#removing rows with missing values\n",
    "\n",
    "dataset = dataset.dropna(axis=0)\n",
    "print(dataset.shape)\n",
    "\n",
    "#showing the histogram on average rating\n",
    "\n",
    "plt.hist(dataset[\"average_rating\"])\n",
    "plt.show()"
   ]
  },
  {
   "cell_type": "code",
   "execution_count": 8,
   "metadata": {},
   "outputs": [
    {
     "name": "stdout",
     "output_type": "stream",
     "text": [
      "id                          13200\n",
      "type                    boardgame\n",
      "name                      Vox Pop\n",
      "yearpublished                1938\n",
      "minplayers                      2\n",
      "maxplayers                     40\n",
      "playingtime                     0\n",
      "minplaytime                     0\n",
      "maxplaytime                     0\n",
      "minage                          0\n",
      "users_rated                     1\n",
      "average_rating                 10\n",
      "bayes_average_rating            0\n",
      "total_owners                    7\n",
      "total_traders                   1\n",
      "total_wanters                   0\n",
      "total_wishers                   0\n",
      "total_comments                  1\n",
      "total_weights                   0\n",
      "average_weight                  0\n",
      "Name: 20226, dtype: object\n"
     ]
    }
   ],
   "source": [
    "#let's the 1st row whose average rating is 10\n",
    "\n",
    "print(dataset[dataset[\"average_rating\"]==10].iloc[0])"
   ]
  },
  {
   "cell_type": "code",
   "execution_count": 9,
   "metadata": {},
   "outputs": [
    {
     "data": {
      "image/png": "[encoded data removed]",
      "text/plain": [
       "<Figure size 864x648 with 2 Axes>"
      ]
     },
     "metadata": {
      "needs_background": "light"
     },
     "output_type": "display_data"
    }
   ],
   "source": [
    "#Correlation matrix\n",
    "\n",
    "corr_mat = dataset.corr()\n",
    "\n",
    "fig = plt.figure(figsize = (12, 9))\n",
    "sb.heatmap(corr_mat, vmax = 1.0, square=True)\n",
    "plt.show()"
   ]
  },
  {
   "cell_type": "code",
   "execution_count": 10,
   "metadata": {},
   "outputs": [
    {
     "name": "stdout",
     "output_type": "stream",
     "text": [
      "['id', 'type', 'name', 'yearpublished', 'minplayers', 'maxplayers', 'playingtime', 'minplaytime', 'maxplaytime', 'minage', 'users_rated', 'average_rating', 'bayes_average_rating', 'total_owners', 'total_traders', 'total_wanters', 'total_wishers', 'total_comments', 'total_weights', 'average_weight']\n"
     ]
    }
   ],
   "source": [
    "#Creating an array for all the columns\n",
    "columns = dataset.columns.tolist()\n",
    "print(columns)"
   ]
  },
  {
   "cell_type": "code",
   "execution_count": 11,
   "metadata": {},
   "outputs": [
    {
     "data": {
      "text/html": [
       "<div>\n",
       "<style scoped>\n",
       "    .dataframe tbody tr th:only-of-type {\n",
       "        vertical-align: middle;\n",
       "    }\n",
       "\n",
       "    .dataframe tbody tr th {\n",
       "        vertical-align: top;\n",
       "    }\n",
       "\n",
       "    .dataframe thead th {\n",
       "        text-align: right;\n",
       "    }\n",
       "</style>\n",
       "<table border=\"1\" class=\"dataframe\">\n",
       "  <thead>\n",
       "    <tr style=\"text-align: right;\">\n",
       "      <th></th>\n",
       "      <th>id</th>\n",
       "      <th>type</th>\n",
       "      <th>name</th>\n",
       "      <th>yearpublished</th>\n",
       "      <th>minplayers</th>\n",
       "      <th>maxplayers</th>\n",
       "      <th>playingtime</th>\n",
       "      <th>minplaytime</th>\n",
       "      <th>maxplaytime</th>\n",
       "      <th>minage</th>\n",
       "      <th>users_rated</th>\n",
       "      <th>average_rating</th>\n",
       "      <th>bayes_average_rating</th>\n",
       "      <th>total_owners</th>\n",
       "      <th>total_traders</th>\n",
       "      <th>total_wanters</th>\n",
       "      <th>total_wishers</th>\n",
       "      <th>total_comments</th>\n",
       "      <th>total_weights</th>\n",
       "      <th>average_weight</th>\n",
       "    </tr>\n",
       "  </thead>\n",
       "  <tbody>\n",
       "    <tr>\n",
       "      <th>0</th>\n",
       "      <td>12333</td>\n",
       "      <td>boardgame</td>\n",
       "      <td>Twilight Struggle</td>\n",
       "      <td>2005.0</td>\n",
       "      <td>2.0</td>\n",
       "      <td>2.0</td>\n",
       "      <td>180.0</td>\n",
       "      <td>180.0</td>\n",
       "      <td>180.0</td>\n",
       "      <td>13.0</td>\n",
       "      <td>20113</td>\n",
       "      <td>8.33774</td>\n",
       "      <td>8.22186</td>\n",
       "      <td>26647</td>\n",
       "      <td>372</td>\n",
       "      <td>1219</td>\n",
       "      <td>5865</td>\n",
       "      <td>5347</td>\n",
       "      <td>2562</td>\n",
       "      <td>3.4785</td>\n",
       "    </tr>\n",
       "    <tr>\n",
       "      <th>1</th>\n",
       "      <td>120677</td>\n",
       "      <td>boardgame</td>\n",
       "      <td>Terra Mystica</td>\n",
       "      <td>2012.0</td>\n",
       "      <td>2.0</td>\n",
       "      <td>5.0</td>\n",
       "      <td>150.0</td>\n",
       "      <td>60.0</td>\n",
       "      <td>150.0</td>\n",
       "      <td>12.0</td>\n",
       "      <td>14383</td>\n",
       "      <td>8.28798</td>\n",
       "      <td>8.14232</td>\n",
       "      <td>16519</td>\n",
       "      <td>132</td>\n",
       "      <td>1586</td>\n",
       "      <td>6277</td>\n",
       "      <td>2526</td>\n",
       "      <td>1423</td>\n",
       "      <td>3.8939</td>\n",
       "    </tr>\n",
       "    <tr>\n",
       "      <th>2</th>\n",
       "      <td>102794</td>\n",
       "      <td>boardgame</td>\n",
       "      <td>Caverna: The Cave Farmers</td>\n",
       "      <td>2013.0</td>\n",
       "      <td>1.0</td>\n",
       "      <td>7.0</td>\n",
       "      <td>210.0</td>\n",
       "      <td>30.0</td>\n",
       "      <td>210.0</td>\n",
       "      <td>12.0</td>\n",
       "      <td>9262</td>\n",
       "      <td>8.28994</td>\n",
       "      <td>8.06886</td>\n",
       "      <td>12230</td>\n",
       "      <td>99</td>\n",
       "      <td>1476</td>\n",
       "      <td>5600</td>\n",
       "      <td>1700</td>\n",
       "      <td>777</td>\n",
       "      <td>3.7761</td>\n",
       "    </tr>\n",
       "    <tr>\n",
       "      <th>3</th>\n",
       "      <td>25613</td>\n",
       "      <td>boardgame</td>\n",
       "      <td>Through the Ages: A Story of Civilization</td>\n",
       "      <td>2006.0</td>\n",
       "      <td>2.0</td>\n",
       "      <td>4.0</td>\n",
       "      <td>240.0</td>\n",
       "      <td>240.0</td>\n",
       "      <td>240.0</td>\n",
       "      <td>12.0</td>\n",
       "      <td>13294</td>\n",
       "      <td>8.20407</td>\n",
       "      <td>8.05804</td>\n",
       "      <td>14343</td>\n",
       "      <td>362</td>\n",
       "      <td>1084</td>\n",
       "      <td>5075</td>\n",
       "      <td>3378</td>\n",
       "      <td>1642</td>\n",
       "      <td>4.1590</td>\n",
       "    </tr>\n",
       "    <tr>\n",
       "      <th>4</th>\n",
       "      <td>3076</td>\n",
       "      <td>boardgame</td>\n",
       "      <td>Puerto Rico</td>\n",
       "      <td>2002.0</td>\n",
       "      <td>2.0</td>\n",
       "      <td>5.0</td>\n",
       "      <td>150.0</td>\n",
       "      <td>90.0</td>\n",
       "      <td>150.0</td>\n",
       "      <td>12.0</td>\n",
       "      <td>39883</td>\n",
       "      <td>8.14261</td>\n",
       "      <td>8.04524</td>\n",
       "      <td>44362</td>\n",
       "      <td>795</td>\n",
       "      <td>861</td>\n",
       "      <td>5414</td>\n",
       "      <td>9173</td>\n",
       "      <td>5213</td>\n",
       "      <td>3.2943</td>\n",
       "    </tr>\n",
       "  </tbody>\n",
       "</table>\n",
       "</div>"
      ],
      "text/plain": [
       "       id       type                                       name  \\\n",
       "0   12333  boardgame                          Twilight Struggle   \n",
       "1  120677  boardgame                              Terra Mystica   \n",
       "2  102794  boardgame                  Caverna: The Cave Farmers   \n",
       "3   25613  boardgame  Through the Ages: A Story of Civilization   \n",
       "4    3076  boardgame                                Puerto Rico   \n",
       "\n",
       "   yearpublished  minplayers  maxplayers  playingtime  minplaytime  \\\n",
       "0         2005.0         2.0         2.0        180.0        180.0   \n",
       "1         2012.0         2.0         5.0        150.0         60.0   \n",
       "2         2013.0         1.0         7.0        210.0         30.0   \n",
       "3         2006.0         2.0         4.0        240.0        240.0   \n",
       "4         2002.0         2.0         5.0        150.0         90.0   \n",
       "\n",
       "   maxplaytime  minage  users_rated  average_rating  bayes_average_rating  \\\n",
       "0        180.0    13.0        20113         8.33774               8.22186   \n",
       "1        150.0    12.0        14383         8.28798               8.14232   \n",
       "2        210.0    12.0         9262         8.28994               8.06886   \n",
       "3        240.0    12.0        13294         8.20407               8.05804   \n",
       "4        150.0    12.0        39883         8.14261               8.04524   \n",
       "\n",
       "   total_owners  total_traders  total_wanters  total_wishers  total_comments  \\\n",
       "0         26647            372           1219           5865            5347   \n",
       "1         16519            132           1586           6277            2526   \n",
       "2         12230             99           1476           5600            1700   \n",
       "3         14343            362           1084           5075            3378   \n",
       "4         44362            795            861           5414            9173   \n",
       "\n",
       "   total_weights  average_weight  \n",
       "0           2562          3.4785  \n",
       "1           1423          3.8939  \n",
       "2            777          3.7761  \n",
       "3           1642          4.1590  \n",
       "4           5213          3.2943  "
      ]
     },
     "execution_count": 11,
     "metadata": {},
     "output_type": "execute_result"
    }
   ],
   "source": [
    "dataset.head()"
   ]
  },
  {
   "cell_type": "markdown",
   "metadata": {},
   "source": [
    "From the above correlation we see some of the columns we don't need since they don't contain any relavant information."
   ]
  },
  {
   "cell_type": "code",
   "execution_count": 12,
   "metadata": {},
   "outputs": [
    {
     "name": "stdout",
     "output_type": "stream",
     "text": [
      "['yearpublished', 'minplayers', 'maxplayers', 'playingtime', 'minplaytime', 'maxplaytime', 'minage', 'users_rated', 'total_owners', 'total_traders', 'total_wanters', 'total_wishers', 'total_comments', 'total_weights', 'average_weight']\n"
     ]
    }
   ],
   "source": [
    "#filtering columns\n",
    "columns = [c for c in columns if c not in ['id', 'type', 'name', 'bayes_average_rating', 'average_rating']]\n",
    "print(columns)"
   ]
  },
  {
   "cell_type": "code",
   "execution_count": 13,
   "metadata": {},
   "outputs": [],
   "source": [
    "#set target which variable will be stored and predicting on it.\n",
    "target = \"average_rating\""
   ]
  },
  {
   "cell_type": "markdown",
   "metadata": {},
   "source": [
    "## Linear Regression\n",
    "\n",
    "We will predict the average review of each board game using linear regression model. Here we will use the mean squared error as a performance metric. "
   ]
  },
  {
   "cell_type": "code",
   "execution_count": 14,
   "metadata": {},
   "outputs": [
    {
     "name": "stdout",
     "output_type": "stream",
     "text": [
      "(45515, 20)\n",
      "(11379, 20)\n"
     ]
    }
   ],
   "source": [
    "#separating dataset into train_dataset and test_dataset\n",
    "\n",
    "train_dataset = dataset.sample(frac=0.8, random_state=1)\n",
    "test_dataset = dataset.loc[~dataset.index.isin(train_dataset.index)]\n",
    "\n",
    "print(train_dataset.shape)\n",
    "print(test_dataset.shape)"
   ]
  },
  {
   "cell_type": "code",
   "execution_count": 15,
   "metadata": {},
   "outputs": [
    {
     "data": {
      "text/plain": [
       "LinearRegression(copy_X=True, fit_intercept=True, n_jobs=None, normalize=False)"
      ]
     },
     "execution_count": 15,
     "metadata": {},
     "output_type": "execute_result"
    }
   ],
   "source": [
    "#now performing linear regression model\n",
    "\n",
    "#Initializing LinearRegression model\n",
    "\n",
    "DataModel = LinearRegression()\n",
    "DataModel.fit(train_dataset[columns], train_dataset[target])\n"
   ]
  },
  {
   "cell_type": "code",
   "execution_count": 16,
   "metadata": {},
   "outputs": [
    {
     "name": "stdout",
     "output_type": "stream",
     "text": [
      "[8.1215759  9.20941269 8.61062702 ... 5.39193736 5.53832747 6.07967543]\n",
      "Mean squared error using Linear Regression Model: 2.0787767119035703\n"
     ]
    }
   ],
   "source": [
    "#finidng predictions & mean squred error\n",
    "\n",
    "predictions = DataModel.predict(test_dataset[columns])\n",
    "\n",
    "#computing mean squared error\n",
    "from sklearn.metrics import mean_squared_error\n",
    "mse = mean_squared_error(predictions, test_dataset[target])\n",
    "print(predictions)\n",
    "print(\"Mean squared error using Linear Regression Model: {}\".format(mse))"
   ]
  },
  {
   "cell_type": "markdown",
   "metadata": {},
   "source": [
    "## Random Forrest model"
   ]
  },
  {
   "cell_type": "code",
   "execution_count": 17,
   "metadata": {},
   "outputs": [
    {
     "name": "stdout",
     "output_type": "stream",
     "text": [
      "Mean squared error using Random Forees\n"
     ]
    }
   ],
   "source": [
    "from sklearn.ensemble import RandomForestRegressor\n",
    "\n",
    "rf_model = RandomForestRegressor(n_estimators=100, min_samples_leaf=10, random_state=1)\n",
    "rf_model.fit(train_dataset[columns], train_dataset[target])\n",
    "\n",
    "predictions = rf_model.predict(test_dataset[columns])\n",
    "mse = mean_squared_error(predictions, test_dataset[target])\n",
    "\n",
    "print(\"Mean squared error using Random Forees\")\n"
   ]
  },
  {
   "cell_type": "code",
   "execution_count": null,
   "metadata": {},
   "outputs": [],
   "source": []
  }
 ],
 "metadata": {
  "kernelspec": {
   "display_name": "Python 3",
   "language": "python",
   "name": "python3"
  },
  "language_info": {
   "codemirror_mode": {
    "name": "ipython",
    "version": 3
   },
   "file_extension": ".py",
   "mimetype": "text/x-python",
   "name": "python",
   "nbconvert_exporter": "python",
   "pygments_lexer": "ipython3",
   "version": "3.7.4"
  }
 },
 "nbformat": 4,
 "nbformat_minor": 2
}
