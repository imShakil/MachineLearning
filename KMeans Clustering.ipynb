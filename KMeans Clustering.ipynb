{
 "cells": [
  {
   "cell_type": "code",
   "execution_count": 1,
   "metadata": {},
   "outputs": [],
   "source": [
    "#import essential libraries\n",
    "\n",
    "import numpy as np\n",
    "import matplotlib.pyplot as plt\n",
    "from sklearn.cluster import KMeans\n"
   ]
  },
  {
   "cell_type": "code",
   "execution_count": 2,
   "metadata": {},
   "outputs": [
    {
     "name": "stdout",
     "output_type": "stream",
     "text": [
      "[26, 3]\n",
      "[23, 14]\n",
      "[[100, 0], [0, 100]]\n",
      "200\n",
      "200\n"
     ]
    },
    {
     "data": {
      "image/png": "[encoded data removed]",
      "text/plain": [
       "<Figure size 432x288 with 1 Axes>"
      ]
     },
     "metadata": {
      "needs_background": "light"
     },
     "output_type": "display_data"
    }
   ],
   "source": [
    "#Generating random Data - two means\n",
    "\n",
    "mean1 = [np.random.randint(50), np.random.randint(50)]\n",
    "mean2 = [np.random.randint(50), np.random.randint(50)]\n",
    "\n",
    "print(mean1)\n",
    "print(mean2)\n",
    "\n",
    "#Making diagonal covariance\n",
    "\n",
    "cov = [[100, 0], [0, 100]]\n",
    "\n",
    "print(cov)\n",
    "\n",
    "#Multivariate\n",
    "\n",
    "x1, y1 = np.random.multivariate_normal(mean1, cov, 100).T\n",
    "x2, y2 = np.random.multivariate_normal(mean2, cov, 100).T\n",
    "\n",
    "x = np.append(x1, x2)\n",
    "y = np.append(y1, y2)\n",
    "\n",
    "print(len(x))\n",
    "print(len(y))\n",
    "\n",
    "plt.plot(x, y, '+')\n",
    "plt.axis('equal')\n",
    "plt.show()"
   ]
  },
  {
   "cell_type": "code",
   "execution_count": 3,
   "metadata": {},
   "outputs": [
    {
     "name": "stdout",
     "output_type": "stream",
     "text": [
      "200\n"
     ]
    },
    {
     "data": {
      "text/plain": [
       "KMeans(algorithm='auto', copy_x=True, init='k-means++', max_iter=300,\n",
       "    n_clusters=2, n_init=10, n_jobs=None, precompute_distances='auto',\n",
       "    random_state=None, tol=0.0001, verbose=0)"
      ]
     },
     "execution_count": 3,
     "metadata": {},
     "output_type": "execute_result"
    }
   ],
   "source": [
    "#making pair between x & y to make a single array\n",
    "\n",
    "q = [(x[i], y[i]) for i in range(len(x)) ]\n",
    "print(len(q))\n",
    "\n",
    "X = np.array(q)\n",
    "\n",
    "#Making KMeans cluster\n",
    "\n",
    "kMeans = KMeans(n_clusters = 2)\n",
    "\n",
    "#fitting the model\n",
    "kMeans.fit(X)"
   ]
  },
  {
   "cell_type": "code",
   "execution_count": 4,
   "metadata": {},
   "outputs": [
    {
     "name": "stdout",
     "output_type": "stream",
     "text": [
      "[[24.85402384 -2.72387358]\n",
      " [24.36550477 17.16587971]]\n",
      "[0 0 0 0 0 0 0 1 0 1 1 0 0 0 0 0 1 0 0 0 0 1 0 0 0 1 0 0 1 0 1 0 1 1 0 0 0\n",
      " 1 1 0 0 0 0 0 0 0 0 0 0 0 0 0 0 1 0 0 0 1 1 1 0 0 0 0 1 0 0 1 0 0 0 0 0 0\n",
      " 0 0 1 1 0 0 1 1 0 0 1 0 0 1 0 0 1 0 0 0 0 1 1 0 0 0 1 0 1 1 0 1 1 1 1 1 1\n",
      " 1 0 0 0 0 1 1 0 1 1 0 0 0 1 0 1 1 1 1 1 0 1 1 1 1 0 1 1 1 1 1 1 1 1 0 0 1\n",
      " 1 1 1 1 1 0 1 1 1 0 1 1 1 1 0 0 0 1 1 0 1 1 0 1 1 0 1 1 0 1 1 1 1 1 1 1 1\n",
      " 0 1 1 1 1 1 1 0 1 1 1 1 1 1 1]\n"
     ]
    }
   ],
   "source": [
    "#find the centroids and labels of cluster data\n",
    "\n",
    "centroids = kMeans.cluster_centers_\n",
    "labels = kMeans.labels_\n",
    "\n",
    "\n",
    "print(centroids)\n",
    "print(labels)"
   ]
  },
  {
   "cell_type": "code",
   "execution_count": 5,
   "metadata": {},
   "outputs": [
    {
     "data": {
      "image/png": "[encoded data removed]",
      "text/plain": [
       "<Figure size 432x288 with 1 Axes>"
      ]
     },
     "metadata": {
      "needs_background": "light"
     },
     "output_type": "display_data"
    }
   ],
   "source": [
    "#Visualizing data\n",
    "\n",
    "colors = ['g.', 'y.']\n",
    "\n",
    "for i in range(len(X)):\n",
    "    plt.plot(X[i][0], X[i][1], colors[labels[i]], markersize=10)\n",
    "    \n",
    "plt.scatter(centroids[:, 0], centroids[:, 1], marker = 'X', s=150, zorder = 10)\n",
    "plt.show()\n"
   ]
  },
  {
   "cell_type": "code",
   "execution_count": 6,
   "metadata": {},
   "outputs": [
    {
     "name": "stdout",
     "output_type": "stream",
     "text": [
      "[[24.85402384 -2.72387358]\n",
      " [24.36550477 17.16587971]]\n",
      "[[26, 3], [23, 14]]\n"
     ]
    }
   ],
   "source": [
    "#comparing centroids with expected means\n",
    "\n",
    "print(centroids)\n",
    "print([mean1, mean2])\n",
    "\n",
    "#making sure too close"
   ]
  },
  {
   "cell_type": "code",
   "execution_count": null,
   "metadata": {},
   "outputs": [],
   "source": []
  }
 ],
 "metadata": {
  "kernelspec": {
   "display_name": "Python 3",
   "language": "python",
   "name": "python3"
  },
  "language_info": {
   "codemirror_mode": {
    "name": "ipython",
    "version": 3
   },
   "file_extension": ".py",
   "mimetype": "text/x-python",
   "name": "python",
   "nbconvert_exporter": "python",
   "pygments_lexer": "ipython3",
   "version": "3.7.2"
  }
 },
 "nbformat": 4,
 "nbformat_minor": 2
}
